{
  "cells": [
    {
      "cell_type": "code",
      "execution_count": 74,
      "metadata": {
        "id": "wRYox_lx-pT7"
      },
      "outputs": [],
      "source": [
        "import pandas as pd\n",
        "import numpy as np"
      ]
    },
    {
      "cell_type": "code",
      "execution_count": 75,
      "metadata": {
        "id": "3vXJjBcB_DkB"
      },
      "outputs": [],
      "source": [
        "df = pd.read_csv(\"/content/The_World_Bank_Population_growth_(annual_).csv\")"
      ]
    },
    {
      "cell_type": "code",
      "execution_count": 76,
      "metadata": {
        "id": "IwuLwzjARj0w"
      },
      "outputs": [],
      "source": [
        "df_gdp = pd.read_csv('/content/Historical GDP in USD by Country and Year.csv')"
      ]
    },
    {
      "cell_type": "code",
      "source": [
        "df_world_data = pd.read_csv('/content/world-data-2023.csv')"
      ],
      "metadata": {
        "id": "A86uPj4n87gL"
      },
      "execution_count": 77,
      "outputs": []
    },
    {
      "cell_type": "code",
      "source": [
        "df_flags = pd.read_csv('/content/countries_continents_codes_flags_url.csv')"
      ],
      "metadata": {
        "id": "ASdoZXkpYWi_"
      },
      "execution_count": 78,
      "outputs": []
    },
    {
      "cell_type": "code",
      "execution_count": 79,
      "metadata": {
        "id": "wOqiw2FkKpwd"
      },
      "outputs": [],
      "source": [
        "country_list = df['country_name'].to_list()"
      ]
    },
    {
      "cell_type": "code",
      "execution_count": 80,
      "metadata": {
        "id": "yTW52c4xHLTR"
      },
      "outputs": [],
      "source": [
        "df_growth = df.transpose()\n",
        "header_row = df_growth.iloc[0]\n",
        "df_growth = df_growth.rename(columns=header_row)\n",
        "# Drop the row which was set as the header\n",
        "df_growth = df_growth.drop(df_growth.index[0])\n",
        "df_growth = df_growth.drop(df_growth.index[0])\n",
        "df_growth.reset_index(inplace=True)"
      ]
    },
    {
      "cell_type": "code",
      "source": [
        "df_growth"
      ],
      "metadata": {
        "colab": {
          "base_uri": "https://localhost:8080/",
          "height": 530
        },
        "id": "wcXsNn-N6tcf",
        "outputId": "1d6d6d61-9cab-48e9-d319-029e3a5aa6d6"
      },
      "execution_count": 81,
      "outputs": [
        {
          "output_type": "execute_result",
          "data": {
            "text/plain": [
              "   index     Aruba Africa Eastern and Southern Afghanistan  \\\n",
              "0   1961  2.179059                     2.66018    1.925952   \n",
              "1   1962  1.548572                    2.732633    2.014879   \n",
              "2   1963  1.389337                    2.753248    2.078997   \n",
              "3   1964  1.215721                    2.806915    2.139651   \n",
              "4   1965  1.032841                    2.840787    2.216007   \n",
              "..   ...       ...                         ...         ...   \n",
              "57  2018  0.494795                    2.688371    2.885208   \n",
              "58  2019   0.45197                    2.691134    2.908529   \n",
              "59  2020  0.134255                    2.678184    3.134747   \n",
              "60  2021 -0.045045                    2.607472    2.851358   \n",
              "61  2022 -0.086392                    2.543757    2.534498   \n",
              "\n",
              "   Africa Western and Central    Angola   Albania   Andorra  \\\n",
              "0                    2.115789  1.558355  3.120855  7.868139   \n",
              "1                    2.145723  1.460738  3.056731  7.521207   \n",
              "2                    2.190827  1.410425  2.953749  7.223198   \n",
              "3                     2.21136  1.301745  2.880686  6.941512   \n",
              "4                    2.242567  1.111041  2.754021  6.653122   \n",
              "..                        ...       ...       ...       ...   \n",
              "57                   2.669239  3.464457 -0.246732  1.580147   \n",
              "58                   2.633982  3.395278 -0.426007  1.757491   \n",
              "59                   2.615646  3.268348 -0.574207  1.761891   \n",
              "60                   2.573377   3.16603 -0.926918  1.702288   \n",
              "61                   2.539799  3.096753  -1.21579  0.994607   \n",
              "\n",
              "   United Arab Emirates Argentina  ...  \\\n",
              "0              5.509939  1.613029  ...   \n",
              "1              5.447405  1.629282  ...   \n",
              "2              5.316356  1.621661  ...   \n",
              "3              5.150823  1.599523  ...   \n",
              "4               5.00957  1.577533  ...   \n",
              "..                  ...       ...  ...   \n",
              "57              0.78945  1.015808  ...   \n",
              "58             0.779087  0.993397  ...   \n",
              "59             0.817694  0.970054  ...   \n",
              "60             0.834813  0.947491  ...   \n",
              "61             0.808075  0.925835  ...   \n",
              "\n",
              "   Fragile and conflict affected situations European Union  \\\n",
              "0                                  2.147361       0.837873   \n",
              "1                                  2.187566       0.850397   \n",
              "2                                  2.201676       0.868925   \n",
              "3                                  2.219722       0.883341   \n",
              "4                                  2.224794        0.85181   \n",
              "..                                      ...            ...   \n",
              "57                                 2.214431        0.17613   \n",
              "58                                 2.248696       0.081899   \n",
              "59                                 2.294676       0.072675   \n",
              "60                                 2.253691      -0.114856   \n",
              "61                                 1.726293       0.043025   \n",
              "\n",
              "   Europe & Central Asia (excluding high income) East Asia & Pacific  \\\n",
              "0                                       1.652325            0.179176   \n",
              "1                                       1.628012            1.377452   \n",
              "2                                       1.599575            2.434757   \n",
              "3                                       1.574269             2.34203   \n",
              "4                                       1.515107            2.350317   \n",
              "..                                           ...                 ...   \n",
              "57                                      0.498932            0.612373   \n",
              "58                                      0.508075            0.532727   \n",
              "59                                      0.343863            0.428126   \n",
              "60                                      0.405396            0.264623   \n",
              "61                                     -0.960497            0.209788   \n",
              "\n",
              "   Arab World Upper middle income Middle income Lower middle income  \\\n",
              "0    2.571718            0.491945      1.314382            2.405341   \n",
              "1    2.619388            1.533751      1.912035             2.40445   \n",
              "2    2.670051            2.446167      2.432857            2.415678   \n",
              "3    2.701946            2.367507      2.387584            2.413504   \n",
              "4    2.726862            2.365031      2.370598            2.377783   \n",
              "..        ...                 ...           ...                 ...   \n",
              "57   2.096194            0.692246      1.082707            1.437394   \n",
              "58   2.062687             0.62186      1.025744            1.389929   \n",
              "59   1.757899            0.497491      0.954211            1.362918   \n",
              "60   1.623335            0.376323      0.860873            1.290783   \n",
              "61   1.788339            0.296935      0.690394            1.036333   \n",
              "\n",
              "   Low income High income  \n",
              "0    2.336207    1.253649  \n",
              "1    2.374212    1.266471  \n",
              "2    2.409516    1.238717  \n",
              "3    2.472147     1.22055  \n",
              "4    2.522514    1.169416  \n",
              "..        ...         ...  \n",
              "57   2.755771    0.486683  \n",
              "58   2.835726     0.42234  \n",
              "59   2.820511    0.405024  \n",
              "60   2.727872   -0.036268  \n",
              "61   2.696521    0.249443  \n",
              "\n",
              "[62 rows x 266 columns]"
            ],
            "text/html": [
              "\n",
              "  <div id=\"df-3d0c1299-2344-42d4-b4fe-06eb85721468\" class=\"colab-df-container\">\n",
              "    <div>\n",
              "<style scoped>\n",
              "    .dataframe tbody tr th:only-of-type {\n",
              "        vertical-align: middle;\n",
              "    }\n",
              "\n",
              "    .dataframe tbody tr th {\n",
              "        vertical-align: top;\n",
              "    }\n",
              "\n",
              "    .dataframe thead th {\n",
              "        text-align: right;\n",
              "    }\n",
              "</style>\n",
              "<table border=\"1\" class=\"dataframe\">\n",
              "  <thead>\n",
              "    <tr style=\"text-align: right;\">\n",
              "      <th></th>\n",
              "      <th>index</th>\n",
              "      <th>Aruba</th>\n",
              "      <th>Africa Eastern and Southern</th>\n",
              "      <th>Afghanistan</th>\n",
              "      <th>Africa Western and Central</th>\n",
              "      <th>Angola</th>\n",
              "      <th>Albania</th>\n",
              "      <th>Andorra</th>\n",
              "      <th>United Arab Emirates</th>\n",
              "      <th>Argentina</th>\n",
              "      <th>...</th>\n",
              "      <th>Fragile and conflict affected situations</th>\n",
              "      <th>European Union</th>\n",
              "      <th>Europe &amp; Central Asia (excluding high income)</th>\n",
              "      <th>East Asia &amp; Pacific</th>\n",
              "      <th>Arab World</th>\n",
              "      <th>Upper middle income</th>\n",
              "      <th>Middle income</th>\n",
              "      <th>Lower middle income</th>\n",
              "      <th>Low income</th>\n",
              "      <th>High income</th>\n",
              "    </tr>\n",
              "  </thead>\n",
              "  <tbody>\n",
              "    <tr>\n",
              "      <th>0</th>\n",
              "      <td>1961</td>\n",
              "      <td>2.179059</td>\n",
              "      <td>2.66018</td>\n",
              "      <td>1.925952</td>\n",
              "      <td>2.115789</td>\n",
              "      <td>1.558355</td>\n",
              "      <td>3.120855</td>\n",
              "      <td>7.868139</td>\n",
              "      <td>5.509939</td>\n",
              "      <td>1.613029</td>\n",
              "      <td>...</td>\n",
              "      <td>2.147361</td>\n",
              "      <td>0.837873</td>\n",
              "      <td>1.652325</td>\n",
              "      <td>0.179176</td>\n",
              "      <td>2.571718</td>\n",
              "      <td>0.491945</td>\n",
              "      <td>1.314382</td>\n",
              "      <td>2.405341</td>\n",
              "      <td>2.336207</td>\n",
              "      <td>1.253649</td>\n",
              "    </tr>\n",
              "    <tr>\n",
              "      <th>1</th>\n",
              "      <td>1962</td>\n",
              "      <td>1.548572</td>\n",
              "      <td>2.732633</td>\n",
              "      <td>2.014879</td>\n",
              "      <td>2.145723</td>\n",
              "      <td>1.460738</td>\n",
              "      <td>3.056731</td>\n",
              "      <td>7.521207</td>\n",
              "      <td>5.447405</td>\n",
              "      <td>1.629282</td>\n",
              "      <td>...</td>\n",
              "      <td>2.187566</td>\n",
              "      <td>0.850397</td>\n",
              "      <td>1.628012</td>\n",
              "      <td>1.377452</td>\n",
              "      <td>2.619388</td>\n",
              "      <td>1.533751</td>\n",
              "      <td>1.912035</td>\n",
              "      <td>2.40445</td>\n",
              "      <td>2.374212</td>\n",
              "      <td>1.266471</td>\n",
              "    </tr>\n",
              "    <tr>\n",
              "      <th>2</th>\n",
              "      <td>1963</td>\n",
              "      <td>1.389337</td>\n",
              "      <td>2.753248</td>\n",
              "      <td>2.078997</td>\n",
              "      <td>2.190827</td>\n",
              "      <td>1.410425</td>\n",
              "      <td>2.953749</td>\n",
              "      <td>7.223198</td>\n",
              "      <td>5.316356</td>\n",
              "      <td>1.621661</td>\n",
              "      <td>...</td>\n",
              "      <td>2.201676</td>\n",
              "      <td>0.868925</td>\n",
              "      <td>1.599575</td>\n",
              "      <td>2.434757</td>\n",
              "      <td>2.670051</td>\n",
              "      <td>2.446167</td>\n",
              "      <td>2.432857</td>\n",
              "      <td>2.415678</td>\n",
              "      <td>2.409516</td>\n",
              "      <td>1.238717</td>\n",
              "    </tr>\n",
              "    <tr>\n",
              "      <th>3</th>\n",
              "      <td>1964</td>\n",
              "      <td>1.215721</td>\n",
              "      <td>2.806915</td>\n",
              "      <td>2.139651</td>\n",
              "      <td>2.21136</td>\n",
              "      <td>1.301745</td>\n",
              "      <td>2.880686</td>\n",
              "      <td>6.941512</td>\n",
              "      <td>5.150823</td>\n",
              "      <td>1.599523</td>\n",
              "      <td>...</td>\n",
              "      <td>2.219722</td>\n",
              "      <td>0.883341</td>\n",
              "      <td>1.574269</td>\n",
              "      <td>2.34203</td>\n",
              "      <td>2.701946</td>\n",
              "      <td>2.367507</td>\n",
              "      <td>2.387584</td>\n",
              "      <td>2.413504</td>\n",
              "      <td>2.472147</td>\n",
              "      <td>1.22055</td>\n",
              "    </tr>\n",
              "    <tr>\n",
              "      <th>4</th>\n",
              "      <td>1965</td>\n",
              "      <td>1.032841</td>\n",
              "      <td>2.840787</td>\n",
              "      <td>2.216007</td>\n",
              "      <td>2.242567</td>\n",
              "      <td>1.111041</td>\n",
              "      <td>2.754021</td>\n",
              "      <td>6.653122</td>\n",
              "      <td>5.00957</td>\n",
              "      <td>1.577533</td>\n",
              "      <td>...</td>\n",
              "      <td>2.224794</td>\n",
              "      <td>0.85181</td>\n",
              "      <td>1.515107</td>\n",
              "      <td>2.350317</td>\n",
              "      <td>2.726862</td>\n",
              "      <td>2.365031</td>\n",
              "      <td>2.370598</td>\n",
              "      <td>2.377783</td>\n",
              "      <td>2.522514</td>\n",
              "      <td>1.169416</td>\n",
              "    </tr>\n",
              "    <tr>\n",
              "      <th>...</th>\n",
              "      <td>...</td>\n",
              "      <td>...</td>\n",
              "      <td>...</td>\n",
              "      <td>...</td>\n",
              "      <td>...</td>\n",
              "      <td>...</td>\n",
              "      <td>...</td>\n",
              "      <td>...</td>\n",
              "      <td>...</td>\n",
              "      <td>...</td>\n",
              "      <td>...</td>\n",
              "      <td>...</td>\n",
              "      <td>...</td>\n",
              "      <td>...</td>\n",
              "      <td>...</td>\n",
              "      <td>...</td>\n",
              "      <td>...</td>\n",
              "      <td>...</td>\n",
              "      <td>...</td>\n",
              "      <td>...</td>\n",
              "      <td>...</td>\n",
              "    </tr>\n",
              "    <tr>\n",
              "      <th>57</th>\n",
              "      <td>2018</td>\n",
              "      <td>0.494795</td>\n",
              "      <td>2.688371</td>\n",
              "      <td>2.885208</td>\n",
              "      <td>2.669239</td>\n",
              "      <td>3.464457</td>\n",
              "      <td>-0.246732</td>\n",
              "      <td>1.580147</td>\n",
              "      <td>0.78945</td>\n",
              "      <td>1.015808</td>\n",
              "      <td>...</td>\n",
              "      <td>2.214431</td>\n",
              "      <td>0.17613</td>\n",
              "      <td>0.498932</td>\n",
              "      <td>0.612373</td>\n",
              "      <td>2.096194</td>\n",
              "      <td>0.692246</td>\n",
              "      <td>1.082707</td>\n",
              "      <td>1.437394</td>\n",
              "      <td>2.755771</td>\n",
              "      <td>0.486683</td>\n",
              "    </tr>\n",
              "    <tr>\n",
              "      <th>58</th>\n",
              "      <td>2019</td>\n",
              "      <td>0.45197</td>\n",
              "      <td>2.691134</td>\n",
              "      <td>2.908529</td>\n",
              "      <td>2.633982</td>\n",
              "      <td>3.395278</td>\n",
              "      <td>-0.426007</td>\n",
              "      <td>1.757491</td>\n",
              "      <td>0.779087</td>\n",
              "      <td>0.993397</td>\n",
              "      <td>...</td>\n",
              "      <td>2.248696</td>\n",
              "      <td>0.081899</td>\n",
              "      <td>0.508075</td>\n",
              "      <td>0.532727</td>\n",
              "      <td>2.062687</td>\n",
              "      <td>0.62186</td>\n",
              "      <td>1.025744</td>\n",
              "      <td>1.389929</td>\n",
              "      <td>2.835726</td>\n",
              "      <td>0.42234</td>\n",
              "    </tr>\n",
              "    <tr>\n",
              "      <th>59</th>\n",
              "      <td>2020</td>\n",
              "      <td>0.134255</td>\n",
              "      <td>2.678184</td>\n",
              "      <td>3.134747</td>\n",
              "      <td>2.615646</td>\n",
              "      <td>3.268348</td>\n",
              "      <td>-0.574207</td>\n",
              "      <td>1.761891</td>\n",
              "      <td>0.817694</td>\n",
              "      <td>0.970054</td>\n",
              "      <td>...</td>\n",
              "      <td>2.294676</td>\n",
              "      <td>0.072675</td>\n",
              "      <td>0.343863</td>\n",
              "      <td>0.428126</td>\n",
              "      <td>1.757899</td>\n",
              "      <td>0.497491</td>\n",
              "      <td>0.954211</td>\n",
              "      <td>1.362918</td>\n",
              "      <td>2.820511</td>\n",
              "      <td>0.405024</td>\n",
              "    </tr>\n",
              "    <tr>\n",
              "      <th>60</th>\n",
              "      <td>2021</td>\n",
              "      <td>-0.045045</td>\n",
              "      <td>2.607472</td>\n",
              "      <td>2.851358</td>\n",
              "      <td>2.573377</td>\n",
              "      <td>3.16603</td>\n",
              "      <td>-0.926918</td>\n",
              "      <td>1.702288</td>\n",
              "      <td>0.834813</td>\n",
              "      <td>0.947491</td>\n",
              "      <td>...</td>\n",
              "      <td>2.253691</td>\n",
              "      <td>-0.114856</td>\n",
              "      <td>0.405396</td>\n",
              "      <td>0.264623</td>\n",
              "      <td>1.623335</td>\n",
              "      <td>0.376323</td>\n",
              "      <td>0.860873</td>\n",
              "      <td>1.290783</td>\n",
              "      <td>2.727872</td>\n",
              "      <td>-0.036268</td>\n",
              "    </tr>\n",
              "    <tr>\n",
              "      <th>61</th>\n",
              "      <td>2022</td>\n",
              "      <td>-0.086392</td>\n",
              "      <td>2.543757</td>\n",
              "      <td>2.534498</td>\n",
              "      <td>2.539799</td>\n",
              "      <td>3.096753</td>\n",
              "      <td>-1.21579</td>\n",
              "      <td>0.994607</td>\n",
              "      <td>0.808075</td>\n",
              "      <td>0.925835</td>\n",
              "      <td>...</td>\n",
              "      <td>1.726293</td>\n",
              "      <td>0.043025</td>\n",
              "      <td>-0.960497</td>\n",
              "      <td>0.209788</td>\n",
              "      <td>1.788339</td>\n",
              "      <td>0.296935</td>\n",
              "      <td>0.690394</td>\n",
              "      <td>1.036333</td>\n",
              "      <td>2.696521</td>\n",
              "      <td>0.249443</td>\n",
              "    </tr>\n",
              "  </tbody>\n",
              "</table>\n",
              "<p>62 rows × 266 columns</p>\n",
              "</div>\n",
              "    <div class=\"colab-df-buttons\">\n",
              "\n",
              "  <div class=\"colab-df-container\">\n",
              "    <button class=\"colab-df-convert\" onclick=\"convertToInteractive('df-3d0c1299-2344-42d4-b4fe-06eb85721468')\"\n",
              "            title=\"Convert this dataframe to an interactive table.\"\n",
              "            style=\"display:none;\">\n",
              "\n",
              "  <svg xmlns=\"http://www.w3.org/2000/svg\" height=\"24px\" viewBox=\"0 -960 960 960\">\n",
              "    <path d=\"M120-120v-720h720v720H120Zm60-500h600v-160H180v160Zm220 220h160v-160H400v160Zm0 220h160v-160H400v160ZM180-400h160v-160H180v160Zm440 0h160v-160H620v160ZM180-180h160v-160H180v160Zm440 0h160v-160H620v160Z\"/>\n",
              "  </svg>\n",
              "    </button>\n",
              "\n",
              "  <style>\n",
              "    .colab-df-container {\n",
              "      display:flex;\n",
              "      gap: 12px;\n",
              "    }\n",
              "\n",
              "    .colab-df-convert {\n",
              "      background-color: #E8F0FE;\n",
              "      border: none;\n",
              "      border-radius: 50%;\n",
              "      cursor: pointer;\n",
              "      display: none;\n",
              "      fill: #1967D2;\n",
              "      height: 32px;\n",
              "      padding: 0 0 0 0;\n",
              "      width: 32px;\n",
              "    }\n",
              "\n",
              "    .colab-df-convert:hover {\n",
              "      background-color: #E2EBFA;\n",
              "      box-shadow: 0px 1px 2px rgba(60, 64, 67, 0.3), 0px 1px 3px 1px rgba(60, 64, 67, 0.15);\n",
              "      fill: #174EA6;\n",
              "    }\n",
              "\n",
              "    .colab-df-buttons div {\n",
              "      margin-bottom: 4px;\n",
              "    }\n",
              "\n",
              "    [theme=dark] .colab-df-convert {\n",
              "      background-color: #3B4455;\n",
              "      fill: #D2E3FC;\n",
              "    }\n",
              "\n",
              "    [theme=dark] .colab-df-convert:hover {\n",
              "      background-color: #434B5C;\n",
              "      box-shadow: 0px 1px 3px 1px rgba(0, 0, 0, 0.15);\n",
              "      filter: drop-shadow(0px 1px 2px rgba(0, 0, 0, 0.3));\n",
              "      fill: #FFFFFF;\n",
              "    }\n",
              "  </style>\n",
              "\n",
              "    <script>\n",
              "      const buttonEl =\n",
              "        document.querySelector('#df-3d0c1299-2344-42d4-b4fe-06eb85721468 button.colab-df-convert');\n",
              "      buttonEl.style.display =\n",
              "        google.colab.kernel.accessAllowed ? 'block' : 'none';\n",
              "\n",
              "      async function convertToInteractive(key) {\n",
              "        const element = document.querySelector('#df-3d0c1299-2344-42d4-b4fe-06eb85721468');\n",
              "        const dataTable =\n",
              "          await google.colab.kernel.invokeFunction('convertToInteractive',\n",
              "                                                    [key], {});\n",
              "        if (!dataTable) return;\n",
              "\n",
              "        const docLinkHtml = 'Like what you see? Visit the ' +\n",
              "          '<a target=\"_blank\" href=https://colab.research.google.com/notebooks/data_table.ipynb>data table notebook</a>'\n",
              "          + ' to learn more about interactive tables.';\n",
              "        element.innerHTML = '';\n",
              "        dataTable['output_type'] = 'display_data';\n",
              "        await google.colab.output.renderOutput(dataTable, element);\n",
              "        const docLink = document.createElement('div');\n",
              "        docLink.innerHTML = docLinkHtml;\n",
              "        element.appendChild(docLink);\n",
              "      }\n",
              "    </script>\n",
              "  </div>\n",
              "\n",
              "\n",
              "<div id=\"df-8174f4dc-8dd2-4030-8362-33d7d50bd547\">\n",
              "  <button class=\"colab-df-quickchart\" onclick=\"quickchart('df-8174f4dc-8dd2-4030-8362-33d7d50bd547')\"\n",
              "            title=\"Suggest charts\"\n",
              "            style=\"display:none;\">\n",
              "\n",
              "<svg xmlns=\"http://www.w3.org/2000/svg\" height=\"24px\"viewBox=\"0 0 24 24\"\n",
              "     width=\"24px\">\n",
              "    <g>\n",
              "        <path d=\"M19 3H5c-1.1 0-2 .9-2 2v14c0 1.1.9 2 2 2h14c1.1 0 2-.9 2-2V5c0-1.1-.9-2-2-2zM9 17H7v-7h2v7zm4 0h-2V7h2v10zm4 0h-2v-4h2v4z\"/>\n",
              "    </g>\n",
              "</svg>\n",
              "  </button>\n",
              "\n",
              "<style>\n",
              "  .colab-df-quickchart {\n",
              "      --bg-color: #E8F0FE;\n",
              "      --fill-color: #1967D2;\n",
              "      --hover-bg-color: #E2EBFA;\n",
              "      --hover-fill-color: #174EA6;\n",
              "      --disabled-fill-color: #AAA;\n",
              "      --disabled-bg-color: #DDD;\n",
              "  }\n",
              "\n",
              "  [theme=dark] .colab-df-quickchart {\n",
              "      --bg-color: #3B4455;\n",
              "      --fill-color: #D2E3FC;\n",
              "      --hover-bg-color: #434B5C;\n",
              "      --hover-fill-color: #FFFFFF;\n",
              "      --disabled-bg-color: #3B4455;\n",
              "      --disabled-fill-color: #666;\n",
              "  }\n",
              "\n",
              "  .colab-df-quickchart {\n",
              "    background-color: var(--bg-color);\n",
              "    border: none;\n",
              "    border-radius: 50%;\n",
              "    cursor: pointer;\n",
              "    display: none;\n",
              "    fill: var(--fill-color);\n",
              "    height: 32px;\n",
              "    padding: 0;\n",
              "    width: 32px;\n",
              "  }\n",
              "\n",
              "  .colab-df-quickchart:hover {\n",
              "    background-color: var(--hover-bg-color);\n",
              "    box-shadow: 0 1px 2px rgba(60, 64, 67, 0.3), 0 1px 3px 1px rgba(60, 64, 67, 0.15);\n",
              "    fill: var(--button-hover-fill-color);\n",
              "  }\n",
              "\n",
              "  .colab-df-quickchart-complete:disabled,\n",
              "  .colab-df-quickchart-complete:disabled:hover {\n",
              "    background-color: var(--disabled-bg-color);\n",
              "    fill: var(--disabled-fill-color);\n",
              "    box-shadow: none;\n",
              "  }\n",
              "\n",
              "  .colab-df-spinner {\n",
              "    border: 2px solid var(--fill-color);\n",
              "    border-color: transparent;\n",
              "    border-bottom-color: var(--fill-color);\n",
              "    animation:\n",
              "      spin 1s steps(1) infinite;\n",
              "  }\n",
              "\n",
              "  @keyframes spin {\n",
              "    0% {\n",
              "      border-color: transparent;\n",
              "      border-bottom-color: var(--fill-color);\n",
              "      border-left-color: var(--fill-color);\n",
              "    }\n",
              "    20% {\n",
              "      border-color: transparent;\n",
              "      border-left-color: var(--fill-color);\n",
              "      border-top-color: var(--fill-color);\n",
              "    }\n",
              "    30% {\n",
              "      border-color: transparent;\n",
              "      border-left-color: var(--fill-color);\n",
              "      border-top-color: var(--fill-color);\n",
              "      border-right-color: var(--fill-color);\n",
              "    }\n",
              "    40% {\n",
              "      border-color: transparent;\n",
              "      border-right-color: var(--fill-color);\n",
              "      border-top-color: var(--fill-color);\n",
              "    }\n",
              "    60% {\n",
              "      border-color: transparent;\n",
              "      border-right-color: var(--fill-color);\n",
              "    }\n",
              "    80% {\n",
              "      border-color: transparent;\n",
              "      border-right-color: var(--fill-color);\n",
              "      border-bottom-color: var(--fill-color);\n",
              "    }\n",
              "    90% {\n",
              "      border-color: transparent;\n",
              "      border-bottom-color: var(--fill-color);\n",
              "    }\n",
              "  }\n",
              "</style>\n",
              "\n",
              "  <script>\n",
              "    async function quickchart(key) {\n",
              "      const quickchartButtonEl =\n",
              "        document.querySelector('#' + key + ' button');\n",
              "      quickchartButtonEl.disabled = true;  // To prevent multiple clicks.\n",
              "      quickchartButtonEl.classList.add('colab-df-spinner');\n",
              "      try {\n",
              "        const charts = await google.colab.kernel.invokeFunction(\n",
              "            'suggestCharts', [key], {});\n",
              "      } catch (error) {\n",
              "        console.error('Error during call to suggestCharts:', error);\n",
              "      }\n",
              "      quickchartButtonEl.classList.remove('colab-df-spinner');\n",
              "      quickchartButtonEl.classList.add('colab-df-quickchart-complete');\n",
              "    }\n",
              "    (() => {\n",
              "      let quickchartButtonEl =\n",
              "        document.querySelector('#df-8174f4dc-8dd2-4030-8362-33d7d50bd547 button');\n",
              "      quickchartButtonEl.style.display =\n",
              "        google.colab.kernel.accessAllowed ? 'block' : 'none';\n",
              "    })();\n",
              "  </script>\n",
              "</div>\n",
              "\n",
              "  <div id=\"id_c5d863de-20e4-4924-93e4-85f29342fe1a\">\n",
              "    <style>\n",
              "      .colab-df-generate {\n",
              "        background-color: #E8F0FE;\n",
              "        border: none;\n",
              "        border-radius: 50%;\n",
              "        cursor: pointer;\n",
              "        display: none;\n",
              "        fill: #1967D2;\n",
              "        height: 32px;\n",
              "        padding: 0 0 0 0;\n",
              "        width: 32px;\n",
              "      }\n",
              "\n",
              "      .colab-df-generate:hover {\n",
              "        background-color: #E2EBFA;\n",
              "        box-shadow: 0px 1px 2px rgba(60, 64, 67, 0.3), 0px 1px 3px 1px rgba(60, 64, 67, 0.15);\n",
              "        fill: #174EA6;\n",
              "      }\n",
              "\n",
              "      [theme=dark] .colab-df-generate {\n",
              "        background-color: #3B4455;\n",
              "        fill: #D2E3FC;\n",
              "      }\n",
              "\n",
              "      [theme=dark] .colab-df-generate:hover {\n",
              "        background-color: #434B5C;\n",
              "        box-shadow: 0px 1px 3px 1px rgba(0, 0, 0, 0.15);\n",
              "        filter: drop-shadow(0px 1px 2px rgba(0, 0, 0, 0.3));\n",
              "        fill: #FFFFFF;\n",
              "      }\n",
              "    </style>\n",
              "    <button class=\"colab-df-generate\" onclick=\"generateWithVariable('df_growth')\"\n",
              "            title=\"Generate code using this dataframe.\"\n",
              "            style=\"display:none;\">\n",
              "\n",
              "  <svg xmlns=\"http://www.w3.org/2000/svg\" height=\"24px\"viewBox=\"0 0 24 24\"\n",
              "       width=\"24px\">\n",
              "    <path d=\"M7,19H8.4L18.45,9,17,7.55,7,17.6ZM5,21V16.75L18.45,3.32a2,2,0,0,1,2.83,0l1.4,1.43a1.91,1.91,0,0,1,.58,1.4,1.91,1.91,0,0,1-.58,1.4L9.25,21ZM18.45,9,17,7.55Zm-12,3A5.31,5.31,0,0,0,4.9,8.1,5.31,5.31,0,0,0,1,6.5,5.31,5.31,0,0,0,4.9,4.9,5.31,5.31,0,0,0,6.5,1,5.31,5.31,0,0,0,8.1,4.9,5.31,5.31,0,0,0,12,6.5,5.46,5.46,0,0,0,6.5,12Z\"/>\n",
              "  </svg>\n",
              "    </button>\n",
              "    <script>\n",
              "      (() => {\n",
              "      const buttonEl =\n",
              "        document.querySelector('#id_c5d863de-20e4-4924-93e4-85f29342fe1a button.colab-df-generate');\n",
              "      buttonEl.style.display =\n",
              "        google.colab.kernel.accessAllowed ? 'block' : 'none';\n",
              "\n",
              "      buttonEl.onclick = () => {\n",
              "        google.colab.notebook.generateWithVariable('df_growth');\n",
              "      }\n",
              "      })();\n",
              "    </script>\n",
              "  </div>\n",
              "\n",
              "    </div>\n",
              "  </div>\n"
            ],
            "application/vnd.google.colaboratory.intrinsic+json": {
              "type": "dataframe",
              "variable_name": "df_growth"
            }
          },
          "metadata": {},
          "execution_count": 81
        }
      ]
    },
    {
      "cell_type": "code",
      "source": [
        "df_growth.rename(columns= {'index':'Year', 'Viet Nam':'Vietnam'},inplace = True)"
      ],
      "metadata": {
        "id": "490QUTxV66l4"
      },
      "execution_count": 82,
      "outputs": []
    },
    {
      "cell_type": "code",
      "execution_count": 83,
      "metadata": {
        "id": "WNG48wOHjgYq"
      },
      "outputs": [],
      "source": [
        "df_gdp['Year'] = df_gdp['Year'].str.extract(r'(\\d{4})')"
      ]
    },
    {
      "cell_type": "code",
      "execution_count": 84,
      "metadata": {
        "id": "aX-DCaA4kRzZ"
      },
      "outputs": [],
      "source": [
        "df_gdp.drop(columns=['Not classified'], inplace=True)"
      ]
    },
    {
      "cell_type": "code",
      "execution_count": 85,
      "metadata": {
        "id": "5RG73idWkWdP"
      },
      "outputs": [],
      "source": [
        "df_gdp.replace(to_replace='..', value=np.nan, inplace=True)"
      ]
    },
    {
      "cell_type": "code",
      "source": [
        "df_world_data.replace(\",\",\"\",inplace =True)"
      ],
      "metadata": {
        "id": "BKzdUYQ7AQIm"
      },
      "execution_count": 86,
      "outputs": []
    },
    {
      "cell_type": "code",
      "source": [
        "columns = df_world_data .columns.to_list()\n",
        "\n",
        "for col in columns:\n",
        "    try:\n",
        "      df_world_data[col] = df_world_data[col].str.replace(\",\",\"\")\n",
        "      df_world_data[col] = df_world_data[col].str.replace(\"$\",\"\")\n",
        "      df_world_data[col] = df_world_data[col].str.replace(\"%\",\"\")\n",
        "    except:\n",
        "      pass"
      ],
      "metadata": {
        "id": "_9BdCqdYg6kD"
      },
      "execution_count": 87,
      "outputs": []
    },
    {
      "cell_type": "code",
      "source": [
        "columns_to_clean = ['Density\\n(P/Km2)', 'Agricultural Land( %)', 'Land Area(Km2)', 'Armed Forces size',\n",
        "                    'Co2-Emissions', 'CPI', 'CPI Change (%)', 'Forested Area (%)', 'Gasoline Price',\n",
        "                    'GDP', 'Gross primary education enrollment (%)', 'Gross tertiary education enrollment (%)',\n",
        "                    'Minimum wage', 'Out of pocket health expenditure', 'Population',\n",
        "                    'Population: Labor force participation (%)', 'Tax revenue (%)', 'Total tax rate',\n",
        "                    'Unemployment rate', 'Urban_population']\n",
        "\n",
        "for column in columns_to_clean:\n",
        "    df_world_data[column] = pd.to_numeric(df_world_data[column])\n",
        "\n",
        "df_world_data['Calling Code'] = df_world_data['Calling Code'].astype('Int64')"
      ],
      "metadata": {
        "id": "XvKASsswoCZQ"
      },
      "execution_count": 88,
      "outputs": []
    },
    {
      "cell_type": "code",
      "source": [
        "df_world_data.replace(\"null\",np.nan,inplace = True)"
      ],
      "metadata": {
        "id": "T0-ZHD24lq86"
      },
      "execution_count": 89,
      "outputs": []
    },
    {
      "cell_type": "code",
      "source": [
        "df_world_data.replace('S�����������', 'Sao Tome and Principe', inplace=True)"
      ],
      "metadata": {
        "id": "y5X13TD3NKKG"
      },
      "execution_count": 90,
      "outputs": []
    },
    {
      "cell_type": "code",
      "source": [
        "world_countries_list = df_world_data.Country.to_list()"
      ],
      "metadata": {
        "id": "k6Vzn5ijmTHg"
      },
      "execution_count": 91,
      "outputs": []
    },
    {
      "cell_type": "code",
      "source": [
        "gdp_countries_list = df_gdp.columns.to_list()[1:]"
      ],
      "metadata": {
        "id": "_wn4cyYtL7i8"
      },
      "execution_count": 92,
      "outputs": []
    },
    {
      "cell_type": "code",
      "source": [
        "difference1 = set(world_countries_list) - set(gdp_countries_list)\n",
        "difference1"
      ],
      "metadata": {
        "colab": {
          "base_uri": "https://localhost:8080/"
        },
        "id": "e8RRqV4UNpjJ",
        "outputId": "4c0fe331-bcf3-48c2-8065-f66b0be02e0b"
      },
      "execution_count": 93,
      "outputs": [
        {
          "output_type": "execute_result",
          "data": {
            "text/plain": [
              "{'Brunei',\n",
              " 'Cape Verde',\n",
              " 'Czech Republic',\n",
              " 'Democratic Republic of the Congo',\n",
              " 'East Timor',\n",
              " 'Egypt',\n",
              " 'Federated States of Micronesia',\n",
              " 'Iran',\n",
              " 'Ivory Coast',\n",
              " 'Kyrgyzstan',\n",
              " 'Laos',\n",
              " 'North Korea',\n",
              " 'Palestinian National Authority',\n",
              " 'Republic of Ireland',\n",
              " 'Republic of the Congo',\n",
              " 'Russia',\n",
              " 'Saint Kitts and Nevis',\n",
              " 'Saint Lucia',\n",
              " 'Saint Vincent and the Grenadines',\n",
              " 'Slovakia',\n",
              " 'South Korea',\n",
              " 'Syria',\n",
              " 'The Bahamas',\n",
              " 'The Gambia',\n",
              " 'Turkey',\n",
              " 'Vatican City',\n",
              " 'Venezuela',\n",
              " 'Yemen'}"
            ]
          },
          "metadata": {},
          "execution_count": 93
        }
      ]
    },
    {
      "cell_type": "code",
      "source": [
        "difference2 = set(gdp_countries_list) - set(world_countries_list)\n",
        "difference2"
      ],
      "metadata": {
        "colab": {
          "base_uri": "https://localhost:8080/"
        },
        "id": "uW2Mnu2tNz08",
        "outputId": "1ffdc819-56ba-4cda-e3ae-aaf31c34c947"
      },
      "execution_count": 94,
      "outputs": [
        {
          "output_type": "execute_result",
          "data": {
            "text/plain": [
              "{'Africa Eastern and Southern',\n",
              " 'Africa Western and Central',\n",
              " 'American Samoa',\n",
              " 'Arab World',\n",
              " 'Aruba',\n",
              " 'Bahamas, The',\n",
              " 'Bermuda',\n",
              " 'British Virgin Islands',\n",
              " 'Brunei Darussalam',\n",
              " 'Cabo Verde',\n",
              " 'Caribbean small states',\n",
              " 'Cayman Islands',\n",
              " 'Central Europe and the Baltics',\n",
              " 'Channel Islands',\n",
              " 'Congo, Dem. Rep.',\n",
              " 'Congo, Rep.',\n",
              " \"Cote d'Ivoire\",\n",
              " 'Curacao',\n",
              " 'Czechia',\n",
              " 'Early-demographic dividend',\n",
              " 'East Asia & Pacific',\n",
              " 'East Asia & Pacific (IDA & IBRD countries)',\n",
              " 'East Asia & Pacific (excluding high income)',\n",
              " 'Egypt, Arab Rep.',\n",
              " 'Euro area',\n",
              " 'Europe & Central Asia',\n",
              " 'Europe & Central Asia (IDA & IBRD countries)',\n",
              " 'Europe & Central Asia (excluding high income)',\n",
              " 'European Union',\n",
              " 'Faroe Islands',\n",
              " 'Fragile and conflict affected situations',\n",
              " 'French Polynesia',\n",
              " 'Gambia, The',\n",
              " 'Gibraltar',\n",
              " 'Greenland',\n",
              " 'Guam',\n",
              " 'Heavily indebted poor countries (HIPC)',\n",
              " 'High income',\n",
              " 'Hong Kong SAR, China',\n",
              " 'IBRD only',\n",
              " 'IDA & IBRD total',\n",
              " 'IDA blend',\n",
              " 'IDA only',\n",
              " 'IDA total',\n",
              " 'Iran, Islamic Rep.',\n",
              " 'Ireland',\n",
              " 'Isle of Man',\n",
              " \"Korea, Dem. People's Rep.\",\n",
              " 'Korea, Rep.',\n",
              " 'Kosovo',\n",
              " 'Kyrgyz Republic',\n",
              " 'Lao PDR',\n",
              " 'Late-demographic dividend',\n",
              " 'Latin America & Caribbean',\n",
              " 'Latin America & Caribbean (excluding high income)',\n",
              " 'Latin America & the Caribbean (IDA & IBRD countries)',\n",
              " 'Least developed countries: UN classification',\n",
              " 'Low & middle income',\n",
              " 'Low income',\n",
              " 'Lower middle income',\n",
              " 'Macao SAR, China',\n",
              " 'Micronesia, Fed. Sts.',\n",
              " 'Middle East & North Africa',\n",
              " 'Middle East & North Africa (IDA & IBRD countries)',\n",
              " 'Middle East & North Africa (excluding high income)',\n",
              " 'Middle income',\n",
              " 'New Caledonia',\n",
              " 'North America',\n",
              " 'Northern Mariana Islands',\n",
              " 'OECD members',\n",
              " 'Other small states',\n",
              " 'Pacific island small states',\n",
              " 'Post-demographic dividend',\n",
              " 'Pre-demographic dividend',\n",
              " 'Puerto Rico',\n",
              " 'Russian Federation',\n",
              " 'Sint Maarten (Dutch part)',\n",
              " 'Slovak Republic',\n",
              " 'Small states',\n",
              " 'South Asia',\n",
              " 'South Asia (IDA & IBRD)',\n",
              " 'St. Kitts and Nevis',\n",
              " 'St. Lucia',\n",
              " 'St. Martin (French part)',\n",
              " 'St. Vincent and the Grenadines',\n",
              " 'Sub-Saharan Africa',\n",
              " 'Sub-Saharan Africa (IDA & IBRD countries)',\n",
              " 'Sub-Saharan Africa (excluding high income)',\n",
              " 'Syrian Arab Republic',\n",
              " 'Timor-Leste',\n",
              " 'Turkiye',\n",
              " 'Turks and Caicos Islands',\n",
              " 'Upper middle income',\n",
              " 'Venezuela, RB',\n",
              " 'Virgin Islands (U.S.)',\n",
              " 'West Bank and Gaza',\n",
              " 'World',\n",
              " 'Yemen, Rep.'}"
            ]
          },
          "metadata": {},
          "execution_count": 94
        }
      ]
    },
    {
      "cell_type": "code",
      "source": [
        "columns_to_drop =[\n",
        "  'Aruba',\n",
        " 'Africa Eastern and Southern',\n",
        " 'Africa Western and Central',\n",
        " 'British Virgin Islands',\n",
        " 'American Samoa',\n",
        " 'Arab World',\n",
        " 'Cayman Islands',\n",
        " 'Channel Islands',\n",
        " 'Faroe Islands',\n",
        " 'Caribbean small states',\n",
        " 'Central Europe and the Baltics',\n",
        " 'Early-demographic dividend',\n",
        " 'East Asia & Pacific',\n",
        " 'East Asia & Pacific (IDA & IBRD countries)',\n",
        " 'East Asia & Pacific (excluding high income)',\n",
        " 'Euro area',\n",
        " 'Europe & Central Asia',\n",
        " 'Europe & Central Asia (IDA & IBRD countries)',\n",
        " 'Europe & Central Asia (excluding high income)',\n",
        " 'European Union',\n",
        " 'Fragile and conflict affected situations',\n",
        " 'Gibraltar',\n",
        " 'Heavily indebted poor countries (HIPC)',\n",
        " 'High income',\n",
        " 'IBRD only',\n",
        " 'IDA & IBRD total',\n",
        " 'IDA blend',\n",
        " 'IDA only',\n",
        " 'IDA total',\n",
        " 'Late-demographic dividend',\n",
        " 'Latin America & Caribbean',\n",
        " 'Latin America & Caribbean (excluding high income)',\n",
        " 'Latin America & the Caribbean (IDA & IBRD countries)',\n",
        " 'Least developed countries: UN classification',\n",
        " 'Low & middle income',\n",
        " 'Low income',\n",
        " 'Lower middle income',\n",
        " 'Middle East & North Africa',\n",
        " 'Middle East & North Africa (IDA & IBRD countries)',\n",
        " 'Middle East & North Africa (excluding high income)',\n",
        " 'Middle income',\n",
        " 'North America',\n",
        " 'OECD members',\n",
        " 'Other small states',\n",
        " 'Pacific island small states',\n",
        " 'Post-demographic dividend',\n",
        " 'Pre-demographic dividend',\n",
        " 'Small states',\n",
        " 'South Asia',\n",
        " 'South Asia (IDA & IBRD)',\n",
        " 'Sub-Saharan Africa',\n",
        " 'Sub-Saharan Africa (IDA & IBRD countries)',\n",
        " 'Sub-Saharan Africa (excluding high income)',\n",
        " 'Upper middle income',\n",
        " 'World',\n",
        " 'Isle of Man',\n",
        " 'Macao SAR, China',\n",
        " 'Hong Kong SAR, China',\n",
        " 'Sint Maarten (Dutch part)',\n",
        " 'St. Martin (French part)',\n",
        " 'Turks and Caicos Islands',\n",
        " 'Virgin Islands (U.S.)',\n",
        "  'Bermuda',\n",
        "'Curacao',\n",
        "  'French Polynesia',\n",
        "  'Greenland',\n",
        "'Guam',\n",
        "'Kosovo',\n",
        "  'New Caledonia',\n",
        "  'Northern Mariana Islands',\n",
        "  'Puerto Rico'\n",
        "]"
      ],
      "metadata": {
        "id": "KmXKAe09O-2k"
      },
      "execution_count": 95,
      "outputs": []
    },
    {
      "cell_type": "code",
      "source": [
        "df_gdp.drop(columns=columns_to_drop,inplace = True)\n",
        "df_growth.drop(columns=columns_to_drop,inplace = True)"
      ],
      "metadata": {
        "id": "JzCK-iGLOg0q"
      },
      "execution_count": 96,
      "outputs": []
    },
    {
      "cell_type": "code",
      "source": [
        "gdp_countries_list_2 = df_gdp.columns.to_list()[1:]"
      ],
      "metadata": {
        "id": "egZFDK_7RX53"
      },
      "execution_count": 97,
      "outputs": []
    },
    {
      "cell_type": "code",
      "source": [
        "difference1_2 = set(gdp_countries_list_2) - set(world_countries_list)\n",
        "difference1_2"
      ],
      "metadata": {
        "colab": {
          "base_uri": "https://localhost:8080/"
        },
        "id": "HtCU51zVReMo",
        "outputId": "402535fc-c295-4089-c19a-c9279501c524"
      },
      "execution_count": 98,
      "outputs": [
        {
          "output_type": "execute_result",
          "data": {
            "text/plain": [
              "{'Bahamas, The',\n",
              " 'Brunei Darussalam',\n",
              " 'Cabo Verde',\n",
              " 'Congo, Dem. Rep.',\n",
              " 'Congo, Rep.',\n",
              " \"Cote d'Ivoire\",\n",
              " 'Czechia',\n",
              " 'Egypt, Arab Rep.',\n",
              " 'Gambia, The',\n",
              " 'Iran, Islamic Rep.',\n",
              " 'Ireland',\n",
              " \"Korea, Dem. People's Rep.\",\n",
              " 'Korea, Rep.',\n",
              " 'Kyrgyz Republic',\n",
              " 'Lao PDR',\n",
              " 'Micronesia, Fed. Sts.',\n",
              " 'Russian Federation',\n",
              " 'Slovak Republic',\n",
              " 'St. Kitts and Nevis',\n",
              " 'St. Lucia',\n",
              " 'St. Vincent and the Grenadines',\n",
              " 'Syrian Arab Republic',\n",
              " 'Timor-Leste',\n",
              " 'Turkiye',\n",
              " 'Venezuela, RB',\n",
              " 'West Bank and Gaza',\n",
              " 'Yemen, Rep.'}"
            ]
          },
          "metadata": {},
          "execution_count": 98
        }
      ]
    },
    {
      "cell_type": "code",
      "source": [
        "difference2_2 = set(world_countries_list) - set(gdp_countries_list_2)\n",
        "difference2_2"
      ],
      "metadata": {
        "colab": {
          "base_uri": "https://localhost:8080/"
        },
        "id": "sShgpTVZRlIs",
        "outputId": "2fb2e194-72a7-4be7-ef0b-080f032db685"
      },
      "execution_count": 99,
      "outputs": [
        {
          "output_type": "execute_result",
          "data": {
            "text/plain": [
              "{'Brunei',\n",
              " 'Cape Verde',\n",
              " 'Czech Republic',\n",
              " 'Democratic Republic of the Congo',\n",
              " 'East Timor',\n",
              " 'Egypt',\n",
              " 'Federated States of Micronesia',\n",
              " 'Iran',\n",
              " 'Ivory Coast',\n",
              " 'Kyrgyzstan',\n",
              " 'Laos',\n",
              " 'North Korea',\n",
              " 'Palestinian National Authority',\n",
              " 'Republic of Ireland',\n",
              " 'Republic of the Congo',\n",
              " 'Russia',\n",
              " 'Saint Kitts and Nevis',\n",
              " 'Saint Lucia',\n",
              " 'Saint Vincent and the Grenadines',\n",
              " 'Slovakia',\n",
              " 'South Korea',\n",
              " 'Syria',\n",
              " 'The Bahamas',\n",
              " 'The Gambia',\n",
              " 'Turkey',\n",
              " 'Vatican City',\n",
              " 'Venezuela',\n",
              " 'Yemen'}"
            ]
          },
          "metadata": {},
          "execution_count": 99
        }
      ]
    },
    {
      "cell_type": "code",
      "source": [
        "len(difference1_2)-len(difference2_2)"
      ],
      "metadata": {
        "colab": {
          "base_uri": "https://localhost:8080/"
        },
        "id": "D7yW3T2LRhkX",
        "outputId": "c278a86d-e8e2-417d-c9b7-a6b0a7e12f2f"
      },
      "execution_count": 100,
      "outputs": [
        {
          "output_type": "execute_result",
          "data": {
            "text/plain": [
              "-1"
            ]
          },
          "metadata": {},
          "execution_count": 100
        }
      ]
    },
    {
      "cell_type": "code",
      "source": [
        "rename_countries = [\n",
        "    ['Brunei', 'Brunei Darussalam'],\n",
        "    ['Cape Verde', 'Cabo Verde'],\n",
        "    ['Democratic Republic of the Congo', 'Congo, Dem. Rep.'],\n",
        "    ['Republic of the Congo', 'Congo, Rep.'],\n",
        "    ['Ivory Coast', \"Cote d'Ivoire\"],\n",
        "    ['Czech Republic', 'Czechia'],\n",
        "    ['Iran', 'Iran, Islamic Rep.'],\n",
        "    ['Republic of Ireland', 'Ireland'],\n",
        "    ['North Korea', \"Korea, Dem. People's Rep.\"],\n",
        "    ['South Korea', 'Korea, Rep.'],\n",
        "    ['Kyrgyzstan', 'Kyrgyz Republic'],\n",
        "    ['Laos', 'Lao PDR'],\n",
        "    ['Federated States of Micronesia', 'Micronesia, Fed. Sts.'],\n",
        "    ['New Caledonia', 'New Caledonia'],\n",
        "    ['Northern Mariana Islands', 'Northern Mariana Islands'],\n",
        "    ['Russia', 'Russian Federation'],\n",
        "    ['Slovakia', 'Slovak Republic'],\n",
        "    ['Saint Kitts and Nevis', 'St. Kitts and Nevis'],\n",
        "    ['Saint Lucia', 'St. Lucia'],\n",
        "    ['Saint Vincent and the Grenadines', 'St. Vincent and the Grenadines'],\n",
        "    ['Syria', 'Syrian Arab Republic'],\n",
        "    ['East Timor', 'Timor-Leste'],\n",
        "    ['Turkey', 'Turkiye'],\n",
        "    ['Venezuela', 'Venezuela, RB'],\n",
        "    ['Palestinian National Authority', 'West Bank and Gaza'],\n",
        "    ['Yemen', 'Yemen, Rep.'],\n",
        "    ['Egypt','Egypt, Arab Rep.']\n",
        "]"
      ],
      "metadata": {
        "id": "JcdBp9RRYvnE"
      },
      "execution_count": 101,
      "outputs": []
    },
    {
      "cell_type": "code",
      "source": [
        "for con in rename_countries:\n",
        "  df_world_data.Country.replace(con[0],con[1],inplace=True)"
      ],
      "metadata": {
        "id": "HC6yTX4LiIWv"
      },
      "execution_count": 102,
      "outputs": []
    },
    {
      "cell_type": "code",
      "source": [
        "rows_to_drop = df_world_data[df_world_data['Country']=='Vatican City']\n",
        "df_world_data.drop(rows_to_drop.index, inplace=True)"
      ],
      "metadata": {
        "id": "qn9eSPJgYFp_"
      },
      "execution_count": 103,
      "outputs": []
    },
    {
      "cell_type": "code",
      "source": [
        "df_gdp.rename(columns={'Bahamas, The':'The Bahamas','Gambia, The':'The Gambia'},inplace = True)"
      ],
      "metadata": {
        "id": "P-wp6dVcfjX_"
      },
      "execution_count": 104,
      "outputs": []
    },
    {
      "cell_type": "code",
      "source": [
        "df_growth.rename(columns={'Bahamas, The':'The Bahamas','Gambia, The':'The Gambia'},inplace = True)"
      ],
      "metadata": {
        "id": "9VE2qXsckj1H"
      },
      "execution_count": 105,
      "outputs": []
    },
    {
      "cell_type": "code",
      "source": [
        "flags_countries_list = df_flags.country.to_list()"
      ],
      "metadata": {
        "id": "XRKg39kcl4YC"
      },
      "execution_count": 106,
      "outputs": []
    },
    {
      "cell_type": "code",
      "source": [
        "world_countries_list = df_world_data.Country.to_list()"
      ],
      "metadata": {
        "id": "vIz4DsOvmF-v"
      },
      "execution_count": 107,
      "outputs": []
    },
    {
      "cell_type": "code",
      "source": [
        "difference1 = set(flags_countries_list) - set(world_countries_list)\n",
        "difference1"
      ],
      "metadata": {
        "colab": {
          "base_uri": "https://localhost:8080/"
        },
        "id": "TKTiqBhrmCAY",
        "outputId": "acda2e01-4bc0-4d2f-e674-f4d42010f847"
      },
      "execution_count": 108,
      "outputs": [
        {
          "output_type": "execute_result",
          "data": {
            "text/plain": [
              "{'Abkhazia',\n",
              " 'American Samoa',\n",
              " 'Anguilla',\n",
              " 'Antarctica',\n",
              " 'Artsakh',\n",
              " 'Aruba',\n",
              " 'Bahamas',\n",
              " 'Bermuda',\n",
              " 'Bonaire, Sint Eustatius and Saba',\n",
              " 'Bosnia And Herzegovina',\n",
              " 'Bouvet Island',\n",
              " 'British Indian Ocean Territory',\n",
              " 'Brunei',\n",
              " 'Cape Verde',\n",
              " 'Cayman Islands',\n",
              " 'Christmas Island',\n",
              " 'Cocos (Keeling) Islands',\n",
              " 'Congo',\n",
              " 'Congo (Democratic Republic Of The)',\n",
              " 'Cook Islands',\n",
              " 'Curaçao',\n",
              " 'Czech Republic',\n",
              " \"Côte D'Ivoire\",\n",
              " 'Democratic Republic of Congo',\n",
              " 'East Timor',\n",
              " 'Egypt',\n",
              " 'Falkland Islands (Malvinas)',\n",
              " 'Faroe Islands',\n",
              " 'Federated States of Micronesia',\n",
              " 'French Guiana',\n",
              " 'French Polynesia',\n",
              " 'French Southern Territories',\n",
              " 'Gambia',\n",
              " 'Gibraltar',\n",
              " 'Greenland',\n",
              " 'Guadeloupe',\n",
              " 'Guam',\n",
              " 'Guernsey',\n",
              " 'Guinea Bissau',\n",
              " 'Heard Island and McDonald Islands',\n",
              " 'Holy See',\n",
              " 'Hong Kong',\n",
              " 'Iran',\n",
              " 'Isle of Man',\n",
              " 'Ivory Coast',\n",
              " 'Jersey',\n",
              " 'Korea, Republic of',\n",
              " 'Kosovo',\n",
              " 'Kyrgyzstan',\n",
              " 'Laos',\n",
              " 'Macao',\n",
              " 'Macedonia',\n",
              " 'Martinique',\n",
              " 'Mayotte',\n",
              " 'Micronesia (Federated States of)',\n",
              " 'Montserrat',\n",
              " 'New Caledonia',\n",
              " 'Niue',\n",
              " 'Norfolk Island',\n",
              " 'North Korea',\n",
              " 'Northern Mariana Islands',\n",
              " 'Palestine',\n",
              " 'Palestine, State of',\n",
              " 'Pitcairn',\n",
              " 'Puerto Rico',\n",
              " 'Republic of China',\n",
              " 'Republic of Congo',\n",
              " 'Russia',\n",
              " 'Réunion',\n",
              " 'Sahrawi Arab Democratic Republic',\n",
              " 'Saint Barthélemy',\n",
              " 'Saint Helena, Ascension and Tristan da Cunha',\n",
              " 'Saint Kitts and Nevis',\n",
              " 'Saint Lucia',\n",
              " 'Saint Martin (French part)',\n",
              " 'Saint Pierre and Miquelon',\n",
              " 'Saint Vincent and Grenadines',\n",
              " 'Saint Vincent and the Grenadines',\n",
              " 'Sint Maarten (Dutch part)',\n",
              " 'Slovakia',\n",
              " 'Somaliland',\n",
              " 'South Georgia and the South Sandwich Islands',\n",
              " 'South Korea',\n",
              " 'South Ossetia',\n",
              " 'Svalbard and Jan Mayen',\n",
              " 'Swaziland',\n",
              " 'Syria',\n",
              " 'Taiwan',\n",
              " 'Tokelau',\n",
              " 'Transnistria',\n",
              " 'Turkey',\n",
              " 'Turkish Republic of Northern Cyprus',\n",
              " 'Turks and Caicos Islands',\n",
              " 'United States Minor Outlying Islands',\n",
              " 'Vatican City',\n",
              " 'Venezuela',\n",
              " 'Virgin Islands (British)',\n",
              " 'Virgin Islands (U.S.)',\n",
              " 'Wallis and Futuna',\n",
              " 'Western Sahara',\n",
              " 'Yemen',\n",
              " 'Åland Islands'}"
            ]
          },
          "metadata": {},
          "execution_count": 108
        }
      ]
    },
    {
      "cell_type": "code",
      "source": [
        "difference2 = set(world_countries_list) - set(flags_countries_list)\n",
        "difference2"
      ],
      "metadata": {
        "colab": {
          "base_uri": "https://localhost:8080/"
        },
        "id": "AX6gUNUsmmTR",
        "outputId": "47e8b741-e35f-478b-a0ef-619de032a11b"
      },
      "execution_count": 109,
      "outputs": [
        {
          "output_type": "execute_result",
          "data": {
            "text/plain": [
              "{'Congo, Dem. Rep.',\n",
              " 'Congo, Rep.',\n",
              " \"Cote d'Ivoire\",\n",
              " 'Czechia',\n",
              " 'Egypt, Arab Rep.',\n",
              " 'Iran, Islamic Rep.',\n",
              " \"Korea, Dem. People's Rep.\",\n",
              " 'Korea, Rep.',\n",
              " 'Kyrgyz Republic',\n",
              " 'Lao PDR',\n",
              " 'Micronesia, Fed. Sts.',\n",
              " 'North Macedonia',\n",
              " 'Russian Federation',\n",
              " 'Slovak Republic',\n",
              " 'St. Kitts and Nevis',\n",
              " 'St. Lucia',\n",
              " 'St. Vincent and the Grenadines',\n",
              " 'Syrian Arab Republic',\n",
              " 'The Bahamas',\n",
              " 'Turkiye',\n",
              " 'Venezuela, RB',\n",
              " 'West Bank and Gaza',\n",
              " 'Yemen, Rep.'}"
            ]
          },
          "metadata": {},
          "execution_count": 109
        }
      ]
    },
    {
      "cell_type": "code",
      "source": [
        "for con in rename_countries:\n",
        "  df_flags.country.replace(con[0],con[1],inplace=True)"
      ],
      "metadata": {
        "id": "PsD3ZqPImPLY"
      },
      "execution_count": 110,
      "outputs": []
    },
    {
      "cell_type": "code",
      "source": [
        "add_rename_countries = [\n",
        "    ['Democratic Republic of Congo','Congo, Dem. Rep.'],\n",
        " ['Republic of Congo','Congo, Rep.'],\n",
        " ['Macedonia','North Macedonia'],\n",
        " ['Bahamas','The Bahamas'],\n",
        " ['Palestine','West Bank and Gaza'],\n",
        "['Swaziland','Eswatini']\n",
        "]"
      ],
      "metadata": {
        "id": "1xNqZffymz5j"
      },
      "execution_count": 111,
      "outputs": []
    },
    {
      "cell_type": "code",
      "source": [
        "for con in add_rename_countries:\n",
        "  df_flags.country.replace(con[0],con[1],inplace=True)"
      ],
      "metadata": {
        "id": "GrXDLrz5nt1a"
      },
      "execution_count": 112,
      "outputs": []
    },
    {
      "cell_type": "code",
      "source": [
        "df_flags.drop_duplicates(subset='country',inplace=True)"
      ],
      "metadata": {
        "id": "fSeLNQQhG6h0"
      },
      "execution_count": 113,
      "outputs": []
    },
    {
      "cell_type": "code",
      "source": [
        "df_flags = df_flags[df_flags['country'].isin(gdp_countries_list)]"
      ],
      "metadata": {
        "id": "DbGD9In7GlFz"
      },
      "execution_count": 114,
      "outputs": []
    },
    {
      "cell_type": "code",
      "source": [
        "df_world_data.to_csv('world_data.csv')"
      ],
      "metadata": {
        "id": "nxygC9VjgNiD"
      },
      "execution_count": 116,
      "outputs": []
    },
    {
      "cell_type": "code",
      "source": [
        "df_gdp.to_csv('gdp.csv')"
      ],
      "metadata": {
        "id": "baqX8g8WOF2v"
      },
      "execution_count": 117,
      "outputs": []
    },
    {
      "cell_type": "code",
      "source": [
        "df_growth.to_csv('growth.csv')"
      ],
      "metadata": {
        "id": "wUIiLC1DOdrN"
      },
      "execution_count": 118,
      "outputs": []
    },
    {
      "cell_type": "code",
      "source": [
        "df_flags.to_csv('flags.csv')"
      ],
      "metadata": {
        "id": "rIQEFfgqOpVM"
      },
      "execution_count": 119,
      "outputs": []
    },
    {
      "cell_type": "code",
      "source": [],
      "metadata": {
        "id": "a5VJu1gHpUmd"
      },
      "execution_count": 45,
      "outputs": []
    }
  ],
  "metadata": {
    "colab": {
      "provenance": []
    },
    "kernelspec": {
      "display_name": "Python 3",
      "name": "python3"
    },
    "language_info": {
      "name": "python"
    }
  },
  "nbformat": 4,
  "nbformat_minor": 0
}